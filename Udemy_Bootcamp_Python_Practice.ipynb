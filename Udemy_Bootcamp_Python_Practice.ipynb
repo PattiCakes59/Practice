{
 "cells": [
  {
   "attachments": {
    "download.png": {
     "image/png": "[encoded data removed]"
    }
   },
   "cell_type": "markdown",
   "id": "90e71316",
   "metadata": {},
   "source": [
    "![download.png](attachment:download.png)"
   ]
  },
  {
   "cell_type": "markdown",
   "id": "b456b3b3",
   "metadata": {},
   "source": [
    "# Python Bootcamp\n",
    ">- Relearn python basics.\n",
    ">- Take python skills to another level.\n",
    ">- Grow as a programmer."
   ]
  },
  {
   "cell_type": "markdown",
   "id": "888edd6e",
   "metadata": {},
   "source": [
    "*Day 1*"
   ]
  },
  {
   "cell_type": "markdown",
   "id": "2ae6b215",
   "metadata": {},
   "source": [
    "### Introduction to Python Data Types"
   ]
  },
  {
   "cell_type": "markdown",
   "id": "f425efcc",
   "metadata": {},
   "source": [
    "#### Python Numbers\n",
    ">- Two main number types:\n",
    ">    1. Integers - whole numbers.\n",
    ">    2. Floating point numbers - numbers with a decimal."
   ]
  },
  {
   "cell_type": "code",
   "execution_count": 1,
   "id": "10890846",
   "metadata": {},
   "outputs": [
    {
     "data": {
      "text/plain": [
       "4"
      ]
     },
     "execution_count": 1,
     "metadata": {},
     "output_type": "execute_result"
    }
   ],
   "source": [
    "2 + 2"
   ]
  },
  {
   "cell_type": "code",
   "execution_count": 2,
   "id": "02f81fd4",
   "metadata": {},
   "outputs": [
    {
     "data": {
      "text/plain": [
       "0"
      ]
     },
     "execution_count": 2,
     "metadata": {},
     "output_type": "execute_result"
    }
   ],
   "source": [
    "2 - 2"
   ]
  },
  {
   "cell_type": "code",
   "execution_count": 3,
   "id": "ba114aa6",
   "metadata": {},
   "outputs": [
    {
     "data": {
      "text/plain": [
       "1.5"
      ]
     },
     "execution_count": 3,
     "metadata": {},
     "output_type": "execute_result"
    }
   ],
   "source": [
    "3 / 2"
   ]
  },
  {
   "cell_type": "markdown",
   "id": "d605c6a5",
   "metadata": {},
   "source": [
    "Module Operator for the remainder.\n",
    "- This will allow you to return only even or odd numbers."
   ]
  },
  {
   "cell_type": "code",
   "execution_count": 4,
   "id": "20d7391a",
   "metadata": {},
   "outputs": [
    {
     "data": {
      "text/plain": [
       "1.75"
      ]
     },
     "execution_count": 4,
     "metadata": {},
     "output_type": "execute_result"
    }
   ],
   "source": [
    "7 / 4"
   ]
  },
  {
   "cell_type": "code",
   "execution_count": 5,
   "id": "132755a0",
   "metadata": {},
   "outputs": [
    {
     "data": {
      "text/plain": [
       "3"
      ]
     },
     "execution_count": 5,
     "metadata": {},
     "output_type": "execute_result"
    }
   ],
   "source": [
    "7 % 4"
   ]
  },
  {
   "cell_type": "code",
   "execution_count": 6,
   "id": "dc7849e8",
   "metadata": {},
   "outputs": [
    {
     "data": {
      "text/plain": [
       "0"
      ]
     },
     "execution_count": 6,
     "metadata": {},
     "output_type": "execute_result"
    }
   ],
   "source": [
    "50 % 5"
   ]
  },
  {
   "cell_type": "markdown",
   "id": "4cfc839e",
   "metadata": {},
   "source": [
    "#### Variables\n",
    ">- Variables can't start with a number.\n",
    ">- There can be no spaces in a name (use _ instead).\n",
    ">- Can't use any of the symbols."
   ]
  },
  {
   "cell_type": "code",
   "execution_count": 7,
   "id": "54b2bf96",
   "metadata": {},
   "outputs": [],
   "source": [
    "a = 5"
   ]
  },
  {
   "cell_type": "code",
   "execution_count": 8,
   "id": "8a138e29",
   "metadata": {},
   "outputs": [
    {
     "data": {
      "text/plain": [
       "5"
      ]
     },
     "execution_count": 8,
     "metadata": {},
     "output_type": "execute_result"
    }
   ],
   "source": [
    "a"
   ]
  },
  {
   "cell_type": "code",
   "execution_count": 9,
   "id": "a69d9ec4",
   "metadata": {},
   "outputs": [],
   "source": [
    "# You can reassign a variable.\n",
    "a = 10"
   ]
  },
  {
   "cell_type": "code",
   "execution_count": 10,
   "id": "a7d6d59b",
   "metadata": {},
   "outputs": [
    {
     "data": {
      "text/plain": [
       "10"
      ]
     },
     "execution_count": 10,
     "metadata": {},
     "output_type": "execute_result"
    }
   ],
   "source": [
    "a"
   ]
  },
  {
   "cell_type": "code",
   "execution_count": 11,
   "id": "828d72ff",
   "metadata": {},
   "outputs": [
    {
     "data": {
      "text/plain": [
       "20"
      ]
     },
     "execution_count": 11,
     "metadata": {},
     "output_type": "execute_result"
    }
   ],
   "source": [
    "a + a"
   ]
  },
  {
   "cell_type": "code",
   "execution_count": 12,
   "id": "038934b8",
   "metadata": {},
   "outputs": [],
   "source": [
    "a = a + a"
   ]
  },
  {
   "cell_type": "code",
   "execution_count": 13,
   "id": "ba30e1c4",
   "metadata": {},
   "outputs": [
    {
     "data": {
      "text/plain": [
       "20"
      ]
     },
     "execution_count": 13,
     "metadata": {},
     "output_type": "execute_result"
    }
   ],
   "source": [
    "a"
   ]
  },
  {
   "cell_type": "code",
   "execution_count": 14,
   "id": "e38831e4",
   "metadata": {},
   "outputs": [
    {
     "data": {
      "text/plain": [
       "int"
      ]
     },
     "execution_count": 14,
     "metadata": {},
     "output_type": "execute_result"
    }
   ],
   "source": [
    "type(a)"
   ]
  },
  {
   "cell_type": "code",
   "execution_count": 15,
   "id": "9f30e86b",
   "metadata": {},
   "outputs": [],
   "source": [
    "a = 30.1"
   ]
  },
  {
   "cell_type": "code",
   "execution_count": 16,
   "id": "5c57336b",
   "metadata": {},
   "outputs": [
    {
     "data": {
      "text/plain": [
       "float"
      ]
     },
     "execution_count": 16,
     "metadata": {},
     "output_type": "execute_result"
    }
   ],
   "source": [
    "type(a)"
   ]
  },
  {
   "cell_type": "code",
   "execution_count": 18,
   "id": "ab071d99",
   "metadata": {},
   "outputs": [],
   "source": [
    "my_income = 100\n",
    "\n",
    "tax_rate = 0.1\n",
    "\n",
    "my_taxes = my_income * tax_rate"
   ]
  },
  {
   "cell_type": "code",
   "execution_count": 19,
   "id": "60673d9a",
   "metadata": {},
   "outputs": [
    {
     "data": {
      "text/plain": [
       "10.0"
      ]
     },
     "execution_count": 19,
     "metadata": {},
     "output_type": "execute_result"
    }
   ],
   "source": [
    "my_taxes"
   ]
  },
  {
   "cell_type": "markdown",
   "id": "22845fe4",
   "metadata": {},
   "source": [
    "### Strings\n",
    "- Sequence of characters using either single or double quotes."
   ]
  },
  {
   "cell_type": "code",
   "execution_count": 20,
   "id": "9a829a97",
   "metadata": {},
   "outputs": [],
   "source": [
    "string = \"I don't do that\""
   ]
  },
  {
   "cell_type": "code",
   "execution_count": 21,
   "id": "f0e898b3",
   "metadata": {},
   "outputs": [
    {
     "data": {
      "text/plain": [
       "\"I don't do that\""
      ]
     },
     "execution_count": 21,
     "metadata": {},
     "output_type": "execute_result"
    }
   ],
   "source": [
    "string"
   ]
  },
  {
   "cell_type": "code",
   "execution_count": 22,
   "id": "2911cdea",
   "metadata": {},
   "outputs": [
    {
     "data": {
      "text/plain": [
       "'d'"
      ]
     },
     "execution_count": 22,
     "metadata": {},
     "output_type": "execute_result"
    }
   ],
   "source": [
    "string[2]"
   ]
  },
  {
   "cell_type": "code",
   "execution_count": 23,
   "id": "6cfdd512",
   "metadata": {},
   "outputs": [
    {
     "data": {
      "text/plain": [
       "'a'"
      ]
     },
     "execution_count": 23,
     "metadata": {},
     "output_type": "execute_result"
    }
   ],
   "source": [
    "# Reverse Indexing\n",
    "string[-2]"
   ]
  },
  {
   "cell_type": "markdown",
   "id": "246b919b",
   "metadata": {},
   "source": [
    "#### Slicing\n",
    "> - [start:stop:step]"
   ]
  },
  {
   "cell_type": "code",
   "execution_count": 28,
   "id": "2b0545d1",
   "metadata": {},
   "outputs": [
    {
     "data": {
      "text/plain": [
       "\" o'\""
      ]
     },
     "execution_count": 28,
     "metadata": {},
     "output_type": "execute_result"
    }
   ],
   "source": [
    "# Start at 1\n",
    "# Stop before 6\n",
    "# Choose every other character\n",
    "string[1:6:2]"
   ]
  },
  {
   "cell_type": "code",
   "execution_count": 29,
   "id": "0b7126d8",
   "metadata": {},
   "outputs": [
    {
     "data": {
      "text/plain": [
       "'hello'"
      ]
     },
     "execution_count": 29,
     "metadata": {},
     "output_type": "execute_result"
    }
   ],
   "source": [
    "\"hello\""
   ]
  },
  {
   "cell_type": "code",
   "execution_count": 30,
   "id": "3aa4d1ce",
   "metadata": {},
   "outputs": [
    {
     "data": {
      "text/plain": [
       "'world'"
      ]
     },
     "execution_count": 30,
     "metadata": {},
     "output_type": "execute_result"
    }
   ],
   "source": [
    "\"world\""
   ]
  },
  {
   "cell_type": "code",
   "execution_count": 31,
   "id": "5fabfafe",
   "metadata": {},
   "outputs": [
    {
     "data": {
      "text/plain": [
       "'hello'"
      ]
     },
     "execution_count": 31,
     "metadata": {},
     "output_type": "execute_result"
    }
   ],
   "source": [
    "'hello'"
   ]
  },
  {
   "cell_type": "code",
   "execution_count": 32,
   "id": "2b29b979",
   "metadata": {},
   "outputs": [
    {
     "name": "stdout",
     "output_type": "stream",
     "text": [
      "hello\n"
     ]
    }
   ],
   "source": [
    "print(\"hello\")"
   ]
  },
  {
   "cell_type": "code",
   "execution_count": 33,
   "id": "4a3854e9",
   "metadata": {},
   "outputs": [
    {
     "name": "stdout",
     "output_type": "stream",
     "text": [
      "hello world\n"
     ]
    }
   ],
   "source": [
    "print(\"hello world\")"
   ]
  },
  {
   "cell_type": "code",
   "execution_count": 36,
   "id": "bbbabcea",
   "metadata": {},
   "outputs": [
    {
     "name": "stdout",
     "output_type": "stream",
     "text": [
      "hello \n",
      "world\n"
     ]
    }
   ],
   "source": [
    "print(\"hello \\nworld\")"
   ]
  },
  {
   "cell_type": "code",
   "execution_count": 37,
   "id": "b97b0cb4",
   "metadata": {},
   "outputs": [
    {
     "name": "stdout",
     "output_type": "stream",
     "text": [
      "hello \tworld\n"
     ]
    }
   ],
   "source": [
    "print('hello \\tworld')"
   ]
  },
  {
   "cell_type": "code",
   "execution_count": 38,
   "id": "de32b844",
   "metadata": {},
   "outputs": [
    {
     "data": {
      "text/plain": [
       "5"
      ]
     },
     "execution_count": 38,
     "metadata": {},
     "output_type": "execute_result"
    }
   ],
   "source": [
    "len('hello')"
   ]
  },
  {
   "cell_type": "code",
   "execution_count": 39,
   "id": "d9fada4b",
   "metadata": {},
   "outputs": [
    {
     "data": {
      "text/plain": [
       "4"
      ]
     },
     "execution_count": 39,
     "metadata": {},
     "output_type": "execute_result"
    }
   ],
   "source": [
    "len(\"I am\")"
   ]
  },
  {
   "cell_type": "markdown",
   "id": "25bdb668",
   "metadata": {},
   "source": [
    "#### String Indexing and Slicing"
   ]
  },
  {
   "cell_type": "code",
   "execution_count": 40,
   "id": "c2e6d4e7",
   "metadata": {},
   "outputs": [],
   "source": [
    "my_string = \"Hello World\""
   ]
  },
  {
   "cell_type": "code",
   "execution_count": 41,
   "id": "be025d66",
   "metadata": {},
   "outputs": [
    {
     "data": {
      "text/plain": [
       "'Hello World'"
      ]
     },
     "execution_count": 41,
     "metadata": {},
     "output_type": "execute_result"
    }
   ],
   "source": [
    "my_string"
   ]
  },
  {
   "cell_type": "code",
   "execution_count": 42,
   "id": "f0d8bcf3",
   "metadata": {},
   "outputs": [
    {
     "data": {
      "text/plain": [
       "'H'"
      ]
     },
     "execution_count": 42,
     "metadata": {},
     "output_type": "execute_result"
    }
   ],
   "source": [
    "my_string[0]"
   ]
  },
  {
   "cell_type": "code",
   "execution_count": 43,
   "id": "a13166d6",
   "metadata": {},
   "outputs": [
    {
     "data": {
      "text/plain": [
       "'r'"
      ]
     },
     "execution_count": 43,
     "metadata": {},
     "output_type": "execute_result"
    }
   ],
   "source": [
    "my_string[8]"
   ]
  },
  {
   "cell_type": "code",
   "execution_count": 45,
   "id": "712e3996",
   "metadata": {},
   "outputs": [
    {
     "data": {
      "text/plain": [
       "'l'"
      ]
     },
     "execution_count": 45,
     "metadata": {},
     "output_type": "execute_result"
    }
   ],
   "source": [
    "my_string[-2]"
   ]
  },
  {
   "cell_type": "code",
   "execution_count": 48,
   "id": "2364989c",
   "metadata": {},
   "outputs": [],
   "source": [
    "my_string = \"abcdefghijk\""
   ]
  },
  {
   "cell_type": "code",
   "execution_count": 49,
   "id": "28a834b0",
   "metadata": {},
   "outputs": [
    {
     "data": {
      "text/plain": [
       "'cdefghijk'"
      ]
     },
     "execution_count": 49,
     "metadata": {},
     "output_type": "execute_result"
    }
   ],
   "source": [
    "my_string[2:]"
   ]
  },
  {
   "cell_type": "code",
   "execution_count": 51,
   "id": "0f66ce46",
   "metadata": {},
   "outputs": [
    {
     "data": {
      "text/plain": [
       "'abc'"
      ]
     },
     "execution_count": 51,
     "metadata": {},
     "output_type": "execute_result"
    }
   ],
   "source": [
    "my_string[:3]"
   ]
  },
  {
   "cell_type": "code",
   "execution_count": 52,
   "id": "2001370f",
   "metadata": {},
   "outputs": [
    {
     "data": {
      "text/plain": [
       "'kjihgfedcba'"
      ]
     },
     "execution_count": 52,
     "metadata": {},
     "output_type": "execute_result"
    }
   ],
   "source": [
    "my_string[::-1]"
   ]
  },
  {
   "cell_type": "code",
   "execution_count": 53,
   "id": "8ee7e66b",
   "metadata": {},
   "outputs": [
    {
     "data": {
      "text/plain": [
       "'def'"
      ]
     },
     "execution_count": 53,
     "metadata": {},
     "output_type": "execute_result"
    }
   ],
   "source": [
    "my_string[3:6]"
   ]
  },
  {
   "cell_type": "code",
   "execution_count": 54,
   "id": "b173a6cb",
   "metadata": {},
   "outputs": [
    {
     "data": {
      "text/plain": [
       "'bc'"
      ]
     },
     "execution_count": 54,
     "metadata": {},
     "output_type": "execute_result"
    }
   ],
   "source": [
    "my_string[1:3]"
   ]
  },
  {
   "cell_type": "code",
   "execution_count": 55,
   "id": "e20ffe97",
   "metadata": {},
   "outputs": [
    {
     "data": {
      "text/plain": [
       "'abcdefghijk'"
      ]
     },
     "execution_count": 55,
     "metadata": {},
     "output_type": "execute_result"
    }
   ],
   "source": [
    "my_string[::]"
   ]
  },
  {
   "cell_type": "code",
   "execution_count": 58,
   "id": "167b36a8",
   "metadata": {},
   "outputs": [
    {
     "data": {
      "text/plain": [
       "'acegik'"
      ]
     },
     "execution_count": 58,
     "metadata": {},
     "output_type": "execute_result"
    }
   ],
   "source": [
    "my_string[::2]"
   ]
  },
  {
   "cell_type": "markdown",
   "id": "06a537b7",
   "metadata": {},
   "source": [
    "<ins>Another way to reverse a string</ins>"
   ]
  },
  {
   "cell_type": "code",
   "execution_count": 59,
   "id": "7406a5d0",
   "metadata": {},
   "outputs": [
    {
     "name": "stdout",
     "output_type": "stream",
     "text": [
      "['n', 'o', 'h', 't', 'y', 'P']\n"
     ]
    }
   ],
   "source": [
    "s = \"Python\" # initial string\n",
    "reversedString=[]\n",
    "index = len(s) # calculate length of string and save in index\n",
    "while index > 0: \n",
    "    reversedString += s[ index - 1 ] # save the value of str[index-1] in reverseString\n",
    "    index = index - 1 # decrement index\n",
    "print(reversedString) # reversed string"
   ]
  },
  {
   "cell_type": "markdown",
   "id": "3a4b2911",
   "metadata": {},
   "source": [
    "#### String Properties and Fundamentals\n",
    "> - Immutable"
   ]
  },
  {
   "cell_type": "code",
   "execution_count": 61,
   "id": "5a578199",
   "metadata": {},
   "outputs": [],
   "source": [
    "name = \"Sam\""
   ]
  },
  {
   "cell_type": "code",
   "execution_count": 63,
   "id": "2923f3fd",
   "metadata": {},
   "outputs": [],
   "source": [
    "# name[0] = \"P\"\n",
    "last_letters = name[1:]"
   ]
  },
  {
   "cell_type": "code",
   "execution_count": 64,
   "id": "4660813e",
   "metadata": {},
   "outputs": [
    {
     "data": {
      "text/plain": [
       "'am'"
      ]
     },
     "execution_count": 64,
     "metadata": {},
     "output_type": "execute_result"
    }
   ],
   "source": [
    "last_letters"
   ]
  },
  {
   "cell_type": "code",
   "execution_count": 66,
   "id": "c5ce3550",
   "metadata": {},
   "outputs": [
    {
     "data": {
      "text/plain": [
       "'Pam'"
      ]
     },
     "execution_count": 66,
     "metadata": {},
     "output_type": "execute_result"
    }
   ],
   "source": [
    "# String concactenation\n",
    "\"P\" + last_letters"
   ]
  },
  {
   "cell_type": "code",
   "execution_count": 67,
   "id": "152fdafd",
   "metadata": {},
   "outputs": [],
   "source": [
    "letter = \"z\""
   ]
  },
  {
   "cell_type": "code",
   "execution_count": 68,
   "id": "b02706c1",
   "metadata": {},
   "outputs": [
    {
     "data": {
      "text/plain": [
       "'zzzzzzzzzz'"
      ]
     },
     "execution_count": 68,
     "metadata": {},
     "output_type": "execute_result"
    }
   ],
   "source": [
    "letter * 10"
   ]
  },
  {
   "cell_type": "code",
   "execution_count": 69,
   "id": "68d5b13d",
   "metadata": {},
   "outputs": [
    {
     "data": {
      "text/plain": [
       "5"
      ]
     },
     "execution_count": 69,
     "metadata": {},
     "output_type": "execute_result"
    }
   ],
   "source": [
    "2 + 3"
   ]
  },
  {
   "cell_type": "code",
   "execution_count": 71,
   "id": "1b4fa2b1",
   "metadata": {},
   "outputs": [
    {
     "data": {
      "text/plain": [
       "'23'"
      ]
     },
     "execution_count": 71,
     "metadata": {},
     "output_type": "execute_result"
    }
   ],
   "source": [
    "# Strings that are numbers won't add together.\n",
    "\"2\" + \"3\""
   ]
  },
  {
   "cell_type": "code",
   "execution_count": 72,
   "id": "11d8afbf",
   "metadata": {},
   "outputs": [],
   "source": [
    "x = \"Hello World\""
   ]
  },
  {
   "cell_type": "code",
   "execution_count": 76,
   "id": "259893fc",
   "metadata": {},
   "outputs": [
    {
     "data": {
      "text/plain": [
       "<function str.upper()>"
      ]
     },
     "execution_count": 76,
     "metadata": {},
     "output_type": "execute_result"
    }
   ],
   "source": [
    "# Have to use the paranthesis\n",
    "x.upper"
   ]
  },
  {
   "cell_type": "code",
   "execution_count": 77,
   "id": "d2005a9c",
   "metadata": {},
   "outputs": [
    {
     "data": {
      "text/plain": [
       "'HELLO WORLD'"
      ]
     },
     "execution_count": 77,
     "metadata": {},
     "output_type": "execute_result"
    }
   ],
   "source": [
    "# If you want to work with a variable press tab.\n",
    "x.upper()"
   ]
  },
  {
   "cell_type": "code",
   "execution_count": 78,
   "id": "6c904ced",
   "metadata": {},
   "outputs": [
    {
     "data": {
      "text/plain": [
       "'hello world'"
      ]
     },
     "execution_count": 78,
     "metadata": {},
     "output_type": "execute_result"
    }
   ],
   "source": [
    "x.lower()"
   ]
  },
  {
   "cell_type": "code",
   "execution_count": 79,
   "id": "a99c55f1",
   "metadata": {},
   "outputs": [
    {
     "data": {
      "text/plain": [
       "['Hello', 'World']"
      ]
     },
     "execution_count": 79,
     "metadata": {},
     "output_type": "execute_result"
    }
   ],
   "source": [
    "# Brings up a list of strings.\n",
    "x.split()"
   ]
  },
  {
   "cell_type": "code",
   "execution_count": 80,
   "id": "9e3692aa",
   "metadata": {},
   "outputs": [],
   "source": [
    "q = \"My name is Patrick!\""
   ]
  },
  {
   "cell_type": "code",
   "execution_count": 81,
   "id": "18998d14",
   "metadata": {},
   "outputs": [
    {
     "data": {
      "text/plain": [
       "['My', 'name', 'is', 'Patrick!']"
      ]
     },
     "execution_count": 81,
     "metadata": {},
     "output_type": "execute_result"
    }
   ],
   "source": [
    "q.split()"
   ]
  },
  {
   "cell_type": "code",
   "execution_count": 82,
   "id": "58bdce05",
   "metadata": {},
   "outputs": [
    {
     "data": {
      "text/plain": [
       "['My n', 'me is P', 'trick!']"
      ]
     },
     "execution_count": 82,
     "metadata": {},
     "output_type": "execute_result"
    }
   ],
   "source": [
    "q.split(\"a\")"
   ]
  },
  {
   "cell_type": "code",
   "execution_count": 83,
   "id": "b9eb9073",
   "metadata": {},
   "outputs": [
    {
     "name": "stdout",
     "output_type": "stream",
     "text": [
      "hello\n"
     ]
    }
   ],
   "source": [
    "print(\"hello\")"
   ]
  },
  {
   "cell_type": "markdown",
   "id": "bf19feb7",
   "metadata": {},
   "source": [
    "#### Print formatting with Strings\n",
    "> - .format()\n",
    "> - f-strings (formatted string literals)"
   ]
  },
  {
   "cell_type": "code",
   "execution_count": 84,
   "id": "8a8ec751",
   "metadata": {},
   "outputs": [],
   "source": [
    "f = \"Patrick\""
   ]
  },
  {
   "cell_type": "code",
   "execution_count": 85,
   "id": "54647ee2",
   "metadata": {},
   "outputs": [],
   "source": [
    "t = \"Ryan\""
   ]
  },
  {
   "cell_type": "code",
   "execution_count": 87,
   "id": "cbc81270",
   "metadata": {},
   "outputs": [
    {
     "data": {
      "text/plain": [
       "'My first name is Patrick and my last name is Ryan.'"
      ]
     },
     "execution_count": 87,
     "metadata": {},
     "output_type": "execute_result"
    }
   ],
   "source": [
    "'My first name is {} and my last name is {}.'.format(f,t)"
   ]
  },
  {
   "cell_type": "code",
   "execution_count": 88,
   "id": "0a6a94ec",
   "metadata": {},
   "outputs": [
    {
     "data": {
      "text/plain": [
       "'My first name is Patrick and my last name is Ryan.'"
      ]
     },
     "execution_count": 88,
     "metadata": {},
     "output_type": "execute_result"
    }
   ],
   "source": [
    "f\"My first name is {f} and my last name is {t}.\""
   ]
  },
  {
   "cell_type": "code",
   "execution_count": 89,
   "id": "bea5cae0",
   "metadata": {},
   "outputs": [
    {
     "data": {
      "text/plain": [
       "'Hello are you how'"
      ]
     },
     "execution_count": 89,
     "metadata": {},
     "output_type": "execute_result"
    }
   ],
   "source": [
    "\"Hello {} {} {}\".format(\"are\", \"you\", \"how\")"
   ]
  },
  {
   "cell_type": "code",
   "execution_count": 92,
   "id": "f2965566",
   "metadata": {},
   "outputs": [
    {
     "data": {
      "text/plain": [
       "'Hello how you are?'"
      ]
     },
     "execution_count": 92,
     "metadata": {},
     "output_type": "execute_result"
    }
   ],
   "source": [
    "\"Hello {2} {1} {0}?\".format(\"are\", \"you\", \"how\")"
   ]
  },
  {
   "cell_type": "code",
   "execution_count": 93,
   "id": "a4e390e3",
   "metadata": {},
   "outputs": [],
   "source": [
    "result = 100/777"
   ]
  },
  {
   "cell_type": "code",
   "execution_count": 94,
   "id": "6778c32b",
   "metadata": {},
   "outputs": [
    {
     "data": {
      "text/plain": [
       "0.1287001287001287"
      ]
     },
     "execution_count": 94,
     "metadata": {},
     "output_type": "execute_result"
    }
   ],
   "source": [
    "result"
   ]
  },
  {
   "cell_type": "markdown",
   "id": "59b7aa4c",
   "metadata": {},
   "source": [
    "#### Float formatting {value:width(white space).precision\"f\"}"
   ]
  },
  {
   "cell_type": "code",
   "execution_count": 99,
   "id": "8410427e",
   "metadata": {},
   "outputs": [
    {
     "name": "stdout",
     "output_type": "stream",
     "text": [
      "The result was 0.129\n"
     ]
    }
   ],
   "source": [
    "print(\"The result was {r:1.3f}\".format(r=result))"
   ]
  },
  {
   "cell_type": "code",
   "execution_count": 105,
   "id": "5e1c57e3",
   "metadata": {},
   "outputs": [
    {
     "name": "stdout",
     "output_type": "stream",
     "text": [
      "The result was   0.128700\n"
     ]
    }
   ],
   "source": [
    "print(\"The result was {r:10.6f}\".format(r=result))"
   ]
  },
  {
   "cell_type": "code",
   "execution_count": 106,
   "id": "43ed7904",
   "metadata": {},
   "outputs": [
    {
     "name": "stdout",
     "output_type": "stream",
     "text": [
      "The result was 0.12870\n"
     ]
    }
   ],
   "source": [
    "print(f\"The result was {result:1.5f}\")"
   ]
  },
  {
   "cell_type": "code",
   "execution_count": 107,
   "id": "23363c77",
   "metadata": {},
   "outputs": [
    {
     "data": {
      "text/plain": [
       "'I like apples'"
      ]
     },
     "execution_count": 107,
     "metadata": {},
     "output_type": "execute_result"
    }
   ],
   "source": [
    "\"I like %s\" %\"apples\""
   ]
  },
  {
   "cell_type": "markdown",
   "id": "82616908",
   "metadata": {},
   "source": [
    "### Lists \n",
    "- Lists are ordered sequences that can hold a variety of object types.\n",
    "- They use brackets and commas to seperate objects in the list.\n",
    "- Support slicing and nesting.\n",
    "> This info can be found here: [Udemy](https://www.udemy.com/course/complete-python-bootcamp/learn/lecture/9388534?start=135#overview)"
   ]
  },
  {
   "cell_type": "code",
   "execution_count": 108,
   "id": "1c2d783b",
   "metadata": {},
   "outputs": [],
   "source": [
    "lst = [0, 1, 2]"
   ]
  },
  {
   "cell_type": "code",
   "execution_count": 109,
   "id": "052ebe1f",
   "metadata": {},
   "outputs": [
    {
     "data": {
      "text/plain": [
       "2"
      ]
     },
     "execution_count": 109,
     "metadata": {},
     "output_type": "execute_result"
    }
   ],
   "source": [
    "lst.pop()"
   ]
  },
  {
   "cell_type": "code",
   "execution_count": 110,
   "id": "92ed4d1d",
   "metadata": {},
   "outputs": [
    {
     "data": {
      "text/plain": [
       "[0, 1]"
      ]
     },
     "execution_count": 110,
     "metadata": {},
     "output_type": "execute_result"
    }
   ],
   "source": [
    "lst"
   ]
  },
  {
   "cell_type": "code",
   "execution_count": 113,
   "id": "55ee9734",
   "metadata": {},
   "outputs": [],
   "source": [
    "first_list = [\"P\", \"a\", \"t\", \"r\", \"i\", \"c\", \"k\"]"
   ]
  },
  {
   "cell_type": "code",
   "execution_count": 114,
   "id": "432524ee",
   "metadata": {},
   "outputs": [
    {
     "data": {
      "text/plain": [
       "['P', 'a', 't', 'r', 'i', 'c', 'k']"
      ]
     },
     "execution_count": 114,
     "metadata": {},
     "output_type": "execute_result"
    }
   ],
   "source": [
    "first_list"
   ]
  },
  {
   "cell_type": "markdown",
   "id": "716a2edf",
   "metadata": {},
   "source": [
    "#### Slicing a list"
   ]
  },
  {
   "cell_type": "code",
   "execution_count": 116,
   "id": "4a60515d",
   "metadata": {},
   "outputs": [
    {
     "data": {
      "text/plain": [
       "['P', 'a', 't']"
      ]
     },
     "execution_count": 116,
     "metadata": {},
     "output_type": "execute_result"
    }
   ],
   "source": [
    "first_list[0:3]"
   ]
  },
  {
   "cell_type": "markdown",
   "id": "0afca920",
   "metadata": {},
   "source": [
    "#### Nested list sliced"
   ]
  },
  {
   "cell_type": "code",
   "execution_count": 117,
   "id": "f33b9f03",
   "metadata": {},
   "outputs": [],
   "source": [
    "second_list = [\"P\", \"a\", \"t\", [\"r\", \"i\", \"c\", \"k\"]]"
   ]
  },
  {
   "cell_type": "code",
   "execution_count": 120,
   "id": "108dd9aa",
   "metadata": {},
   "outputs": [
    {
     "data": {
      "text/plain": [
       "['r', 'i']"
      ]
     },
     "execution_count": 120,
     "metadata": {},
     "output_type": "execute_result"
    }
   ],
   "source": [
    "second_list[3][0:2]"
   ]
  },
  {
   "cell_type": "code",
   "execution_count": 121,
   "id": "2b7d793e",
   "metadata": {},
   "outputs": [],
   "source": [
    "final_list = [\"P\", \"a\", \"t\", [\"r\", \"i\", \"c\", \"k\", [\"R\", \"y\", \"a\", \"n\"]]]"
   ]
  },
  {
   "cell_type": "code",
   "execution_count": 127,
   "id": "22fb4f44",
   "metadata": {},
   "outputs": [
    {
     "data": {
      "text/plain": [
       "['R', 'y']"
      ]
     },
     "execution_count": 127,
     "metadata": {},
     "output_type": "execute_result"
    }
   ],
   "source": [
    "# Crazy!\n",
    "final_list[3][4][0:2]"
   ]
  },
  {
   "cell_type": "code",
   "execution_count": null,
   "id": "e5b7fe28",
   "metadata": {},
   "outputs": [],
   "source": []
  }
 ],
 "metadata": {
  "kernelspec": {
   "display_name": "Python 3 (ipykernel)",
   "language": "python",
   "name": "python3"
  },
  "language_info": {
   "codemirror_mode": {
    "name": "ipython",
    "version": 3
   },
   "file_extension": ".py",
   "mimetype": "text/x-python",
   "name": "python",
   "nbconvert_exporter": "python",
   "pygments_lexer": "ipython3",
   "version": "3.9.12"
  }
 },
 "nbformat": 4,
 "nbformat_minor": 5
}
