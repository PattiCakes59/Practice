{
 "cells": [
  {
   "attachments": {
    "download.png": {
     "image/png": "[encoded data removed]"
    }
   },
   "cell_type": "markdown",
   "id": "1e99be53",
   "metadata": {},
   "source": [
    "![download.png](attachment:download.png)"
   ]
  },
  {
   "cell_type": "markdown",
   "id": "c6d2862b",
   "metadata": {},
   "source": [
    "# Python Bootcamp\n",
    ">- Relearn python basics.\n",
    ">- Take python skills to another level.\n",
    ">- Grow as a programmer."
   ]
  },
  {
   "cell_type": "markdown",
   "id": "9a82b83f",
   "metadata": {},
   "source": [
    "### Day 1"
   ]
  },
  {
   "cell_type": "markdown",
   "id": "cb43209a",
   "metadata": {},
   "source": [
    "### Introduction to Python Data Types"
   ]
  },
  {
   "cell_type": "markdown",
   "id": "1dd28f78",
   "metadata": {},
   "source": [
    "#### Python Numbers\n",
    ">- Two main number types:\n",
    "    1. Integers - whole numbers.\n",
    "    2. Floating point numbers - numbers with a decimal."
   ]
  },
  {
   "cell_type": "code",
   "execution_count": 1,
   "id": "061185c4",
   "metadata": {},
   "outputs": [
    {
     "data": {
      "text/plain": [
       "4"
      ]
     },
     "execution_count": 1,
     "metadata": {},
     "output_type": "execute_result"
    }
   ],
   "source": [
    "2 + 2"
   ]
  },
  {
   "cell_type": "code",
   "execution_count": 2,
   "id": "f793f8c4",
   "metadata": {},
   "outputs": [
    {
     "data": {
      "text/plain": [
       "0"
      ]
     },
     "execution_count": 2,
     "metadata": {},
     "output_type": "execute_result"
    }
   ],
   "source": [
    "2 - 2"
   ]
  },
  {
   "cell_type": "code",
   "execution_count": 3,
   "id": "79c20cb8",
   "metadata": {},
   "outputs": [
    {
     "data": {
      "text/plain": [
       "1.5"
      ]
     },
     "execution_count": 3,
     "metadata": {},
     "output_type": "execute_result"
    }
   ],
   "source": [
    "3 / 2"
   ]
  },
  {
   "cell_type": "markdown",
   "id": "c35453cf",
   "metadata": {},
   "source": [
    "Module Operator for the remainder.\n",
    "- This will allow you to return only even or odd numbers."
   ]
  },
  {
   "cell_type": "code",
   "execution_count": 4,
   "id": "47da7104",
   "metadata": {},
   "outputs": [
    {
     "data": {
      "text/plain": [
       "1.75"
      ]
     },
     "execution_count": 4,
     "metadata": {},
     "output_type": "execute_result"
    }
   ],
   "source": [
    "7 / 4"
   ]
  },
  {
   "cell_type": "code",
   "execution_count": 5,
   "id": "d460350f",
   "metadata": {},
   "outputs": [
    {
     "data": {
      "text/plain": [
       "3"
      ]
     },
     "execution_count": 5,
     "metadata": {},
     "output_type": "execute_result"
    }
   ],
   "source": [
    "7 % 4"
   ]
  },
  {
   "cell_type": "code",
   "execution_count": 6,
   "id": "28a2676c",
   "metadata": {},
   "outputs": [
    {
     "data": {
      "text/plain": [
       "0"
      ]
     },
     "execution_count": 6,
     "metadata": {},
     "output_type": "execute_result"
    }
   ],
   "source": [
    "50 % 5"
   ]
  },
  {
   "cell_type": "markdown",
   "id": "2177dd15",
   "metadata": {},
   "source": [
    "#### Variables\n",
    ">- Variables can't start with a number.\n",
    ">- There can be no spaces in a name (use _ instead).\n",
    ">- Can't use any of the symbols."
   ]
  },
  {
   "cell_type": "code",
   "execution_count": 7,
   "id": "03e61df3",
   "metadata": {},
   "outputs": [],
   "source": [
    "a = 5"
   ]
  },
  {
   "cell_type": "code",
   "execution_count": 8,
   "id": "749b0f89",
   "metadata": {},
   "outputs": [
    {
     "data": {
      "text/plain": [
       "5"
      ]
     },
     "execution_count": 8,
     "metadata": {},
     "output_type": "execute_result"
    }
   ],
   "source": [
    "a"
   ]
  },
  {
   "cell_type": "code",
   "execution_count": 9,
   "id": "120a96d5",
   "metadata": {},
   "outputs": [],
   "source": [
    "# You can reassign a variable.\n",
    "a = 10"
   ]
  },
  {
   "cell_type": "code",
   "execution_count": 10,
   "id": "f93631a8",
   "metadata": {},
   "outputs": [
    {
     "data": {
      "text/plain": [
       "10"
      ]
     },
     "execution_count": 10,
     "metadata": {},
     "output_type": "execute_result"
    }
   ],
   "source": [
    "a"
   ]
  },
  {
   "cell_type": "code",
   "execution_count": 11,
   "id": "164d5210",
   "metadata": {},
   "outputs": [
    {
     "data": {
      "text/plain": [
       "20"
      ]
     },
     "execution_count": 11,
     "metadata": {},
     "output_type": "execute_result"
    }
   ],
   "source": [
    "a + a"
   ]
  },
  {
   "cell_type": "code",
   "execution_count": 12,
   "id": "895601bf",
   "metadata": {},
   "outputs": [],
   "source": [
    "a = a + a"
   ]
  },
  {
   "cell_type": "code",
   "execution_count": 13,
   "id": "a1912416",
   "metadata": {},
   "outputs": [
    {
     "data": {
      "text/plain": [
       "20"
      ]
     },
     "execution_count": 13,
     "metadata": {},
     "output_type": "execute_result"
    }
   ],
   "source": [
    "a"
   ]
  },
  {
   "cell_type": "code",
   "execution_count": 14,
   "id": "fe2c9231",
   "metadata": {},
   "outputs": [
    {
     "data": {
      "text/plain": [
       "int"
      ]
     },
     "execution_count": 14,
     "metadata": {},
     "output_type": "execute_result"
    }
   ],
   "source": [
    "type(a)"
   ]
  },
  {
   "cell_type": "code",
   "execution_count": 15,
   "id": "c2df32a6",
   "metadata": {},
   "outputs": [],
   "source": [
    "a = 30.1"
   ]
  },
  {
   "cell_type": "code",
   "execution_count": 16,
   "id": "e8cef0d9",
   "metadata": {},
   "outputs": [
    {
     "data": {
      "text/plain": [
       "float"
      ]
     },
     "execution_count": 16,
     "metadata": {},
     "output_type": "execute_result"
    }
   ],
   "source": [
    "type(a)"
   ]
  },
  {
   "cell_type": "code",
   "execution_count": 18,
   "id": "80d6bffe",
   "metadata": {},
   "outputs": [],
   "source": [
    "my_income = 100\n",
    "\n",
    "tax_rate = 0.1\n",
    "\n",
    "my_taxes = my_income * tax_rate"
   ]
  },
  {
   "cell_type": "code",
   "execution_count": 19,
   "id": "07f3f545",
   "metadata": {},
   "outputs": [
    {
     "data": {
      "text/plain": [
       "10.0"
      ]
     },
     "execution_count": 19,
     "metadata": {},
     "output_type": "execute_result"
    }
   ],
   "source": [
    "my_taxes"
   ]
  },
  {
   "cell_type": "markdown",
   "id": "a6162b72",
   "metadata": {},
   "source": [
    "### Strings\n",
    "- Sequence of characters using either single or double quotes."
   ]
  },
  {
   "cell_type": "code",
   "execution_count": 20,
   "id": "3dc6646b",
   "metadata": {},
   "outputs": [],
   "source": [
    "string = \"I don't do that\""
   ]
  },
  {
   "cell_type": "code",
   "execution_count": 21,
   "id": "035ef0b4",
   "metadata": {},
   "outputs": [
    {
     "data": {
      "text/plain": [
       "\"I don't do that\""
      ]
     },
     "execution_count": 21,
     "metadata": {},
     "output_type": "execute_result"
    }
   ],
   "source": [
    "string"
   ]
  },
  {
   "cell_type": "code",
   "execution_count": 22,
   "id": "456c8540",
   "metadata": {},
   "outputs": [
    {
     "data": {
      "text/plain": [
       "'d'"
      ]
     },
     "execution_count": 22,
     "metadata": {},
     "output_type": "execute_result"
    }
   ],
   "source": [
    "string[2]"
   ]
  },
  {
   "cell_type": "code",
   "execution_count": 23,
   "id": "744d5d95",
   "metadata": {},
   "outputs": [
    {
     "data": {
      "text/plain": [
       "'a'"
      ]
     },
     "execution_count": 23,
     "metadata": {},
     "output_type": "execute_result"
    }
   ],
   "source": [
    "# Reverse Indexing\n",
    "string[-2]"
   ]
  },
  {
   "cell_type": "markdown",
   "id": "a2432189",
   "metadata": {},
   "source": [
    "#### Slicing\n",
    "> - [start:stop:step]"
   ]
  },
  {
   "cell_type": "code",
   "execution_count": 28,
   "id": "6d52f80b",
   "metadata": {},
   "outputs": [
    {
     "data": {
      "text/plain": [
       "\" o'\""
      ]
     },
     "execution_count": 28,
     "metadata": {},
     "output_type": "execute_result"
    }
   ],
   "source": [
    "# Start at 1\n",
    "# Stop before 6\n",
    "# Choose every other character\n",
    "string[1:6:2]"
   ]
  },
  {
   "cell_type": "code",
   "execution_count": 29,
   "id": "0f02233a",
   "metadata": {},
   "outputs": [
    {
     "data": {
      "text/plain": [
       "'hello'"
      ]
     },
     "execution_count": 29,
     "metadata": {},
     "output_type": "execute_result"
    }
   ],
   "source": [
    "\"hello\""
   ]
  },
  {
   "cell_type": "code",
   "execution_count": 30,
   "id": "7bfcf04b",
   "metadata": {},
   "outputs": [
    {
     "data": {
      "text/plain": [
       "'world'"
      ]
     },
     "execution_count": 30,
     "metadata": {},
     "output_type": "execute_result"
    }
   ],
   "source": [
    "\"world\""
   ]
  },
  {
   "cell_type": "code",
   "execution_count": 31,
   "id": "45deb5c7",
   "metadata": {},
   "outputs": [
    {
     "data": {
      "text/plain": [
       "'hello'"
      ]
     },
     "execution_count": 31,
     "metadata": {},
     "output_type": "execute_result"
    }
   ],
   "source": [
    "'hello'"
   ]
  },
  {
   "cell_type": "code",
   "execution_count": 32,
   "id": "d6b38e62",
   "metadata": {},
   "outputs": [
    {
     "name": "stdout",
     "output_type": "stream",
     "text": [
      "hello\n"
     ]
    }
   ],
   "source": [
    "print(\"hello\")"
   ]
  },
  {
   "cell_type": "code",
   "execution_count": 33,
   "id": "ee9afb78",
   "metadata": {},
   "outputs": [
    {
     "name": "stdout",
     "output_type": "stream",
     "text": [
      "hello world\n"
     ]
    }
   ],
   "source": [
    "print(\"hello world\")"
   ]
  },
  {
   "cell_type": "code",
   "execution_count": 36,
   "id": "d1573ff6",
   "metadata": {},
   "outputs": [
    {
     "name": "stdout",
     "output_type": "stream",
     "text": [
      "hello \n",
      "world\n"
     ]
    }
   ],
   "source": [
    "print(\"hello \\nworld\")"
   ]
  },
  {
   "cell_type": "code",
   "execution_count": 37,
   "id": "db6fd4ec",
   "metadata": {},
   "outputs": [
    {
     "name": "stdout",
     "output_type": "stream",
     "text": [
      "hello \tworld\n"
     ]
    }
   ],
   "source": [
    "print('hello \\tworld')"
   ]
  },
  {
   "cell_type": "code",
   "execution_count": 38,
   "id": "3f4e4bee",
   "metadata": {},
   "outputs": [
    {
     "data": {
      "text/plain": [
       "5"
      ]
     },
     "execution_count": 38,
     "metadata": {},
     "output_type": "execute_result"
    }
   ],
   "source": [
    "len('hello')"
   ]
  },
  {
   "cell_type": "code",
   "execution_count": 39,
   "id": "1cdcb31c",
   "metadata": {},
   "outputs": [
    {
     "data": {
      "text/plain": [
       "4"
      ]
     },
     "execution_count": 39,
     "metadata": {},
     "output_type": "execute_result"
    }
   ],
   "source": [
    "len(\"I am\")"
   ]
  },
  {
   "cell_type": "markdown",
   "id": "ce6ba293",
   "metadata": {},
   "source": [
    "#### String Indexing and Slicing"
   ]
  },
  {
   "cell_type": "code",
   "execution_count": 40,
   "id": "f446d65f",
   "metadata": {},
   "outputs": [],
   "source": [
    "my_string = \"Hello World\""
   ]
  },
  {
   "cell_type": "code",
   "execution_count": 41,
   "id": "35779694",
   "metadata": {},
   "outputs": [
    {
     "data": {
      "text/plain": [
       "'Hello World'"
      ]
     },
     "execution_count": 41,
     "metadata": {},
     "output_type": "execute_result"
    }
   ],
   "source": [
    "my_string"
   ]
  },
  {
   "cell_type": "code",
   "execution_count": 42,
   "id": "29fe9d8a",
   "metadata": {},
   "outputs": [
    {
     "data": {
      "text/plain": [
       "'H'"
      ]
     },
     "execution_count": 42,
     "metadata": {},
     "output_type": "execute_result"
    }
   ],
   "source": [
    "my_string[0]"
   ]
  },
  {
   "cell_type": "code",
   "execution_count": 43,
   "id": "f86d8ce9",
   "metadata": {},
   "outputs": [
    {
     "data": {
      "text/plain": [
       "'r'"
      ]
     },
     "execution_count": 43,
     "metadata": {},
     "output_type": "execute_result"
    }
   ],
   "source": [
    "my_string[8]"
   ]
  },
  {
   "cell_type": "code",
   "execution_count": 45,
   "id": "b0959849",
   "metadata": {},
   "outputs": [
    {
     "data": {
      "text/plain": [
       "'l'"
      ]
     },
     "execution_count": 45,
     "metadata": {},
     "output_type": "execute_result"
    }
   ],
   "source": [
    "my_string[-2]"
   ]
  },
  {
   "cell_type": "code",
   "execution_count": 48,
   "id": "b0107ebd",
   "metadata": {},
   "outputs": [],
   "source": [
    "my_string = \"abcdefghijk\""
   ]
  },
  {
   "cell_type": "code",
   "execution_count": 49,
   "id": "e5bc7e8a",
   "metadata": {},
   "outputs": [
    {
     "data": {
      "text/plain": [
       "'cdefghijk'"
      ]
     },
     "execution_count": 49,
     "metadata": {},
     "output_type": "execute_result"
    }
   ],
   "source": [
    "my_string[2:]"
   ]
  },
  {
   "cell_type": "code",
   "execution_count": 51,
   "id": "b4bbb7fb",
   "metadata": {},
   "outputs": [
    {
     "data": {
      "text/plain": [
       "'abc'"
      ]
     },
     "execution_count": 51,
     "metadata": {},
     "output_type": "execute_result"
    }
   ],
   "source": [
    "my_string[:3]"
   ]
  },
  {
   "cell_type": "code",
   "execution_count": 52,
   "id": "c9df6dae",
   "metadata": {},
   "outputs": [
    {
     "data": {
      "text/plain": [
       "'kjihgfedcba'"
      ]
     },
     "execution_count": 52,
     "metadata": {},
     "output_type": "execute_result"
    }
   ],
   "source": [
    "my_string[::-1]"
   ]
  },
  {
   "cell_type": "code",
   "execution_count": 53,
   "id": "2fad0c71",
   "metadata": {},
   "outputs": [
    {
     "data": {
      "text/plain": [
       "'def'"
      ]
     },
     "execution_count": 53,
     "metadata": {},
     "output_type": "execute_result"
    }
   ],
   "source": [
    "my_string[3:6]"
   ]
  },
  {
   "cell_type": "code",
   "execution_count": 54,
   "id": "31dce4a8",
   "metadata": {},
   "outputs": [
    {
     "data": {
      "text/plain": [
       "'bc'"
      ]
     },
     "execution_count": 54,
     "metadata": {},
     "output_type": "execute_result"
    }
   ],
   "source": [
    "my_string[1:3]"
   ]
  },
  {
   "cell_type": "code",
   "execution_count": 55,
   "id": "8b8426fa",
   "metadata": {},
   "outputs": [
    {
     "data": {
      "text/plain": [
       "'abcdefghijk'"
      ]
     },
     "execution_count": 55,
     "metadata": {},
     "output_type": "execute_result"
    }
   ],
   "source": [
    "my_string[::]"
   ]
  },
  {
   "cell_type": "code",
   "execution_count": 58,
   "id": "4ab625f5",
   "metadata": {},
   "outputs": [
    {
     "data": {
      "text/plain": [
       "'acegik'"
      ]
     },
     "execution_count": 58,
     "metadata": {},
     "output_type": "execute_result"
    }
   ],
   "source": [
    "my_string[::2]"
   ]
  },
  {
   "cell_type": "markdown",
   "id": "b72c768e",
   "metadata": {},
   "source": [
    "<ins>Another way to reverse a string</ins>"
   ]
  },
  {
   "cell_type": "code",
   "execution_count": 59,
   "id": "68ddc52e",
   "metadata": {},
   "outputs": [
    {
     "name": "stdout",
     "output_type": "stream",
     "text": [
      "['n', 'o', 'h', 't', 'y', 'P']\n"
     ]
    }
   ],
   "source": [
    "s = \"Python\" # initial string\n",
    "reversedString=[]\n",
    "index = len(s) # calculate length of string and save in index\n",
    "while index > 0: \n",
    "    reversedString += s[ index - 1 ] # save the value of str[index-1] in reverseString\n",
    "    index = index - 1 # decrement index\n",
    "print(reversedString) # reversed string"
   ]
  },
  {
   "cell_type": "markdown",
   "id": "0e4f3094",
   "metadata": {},
   "source": [
    "#### String Properties and Fundamentals\n",
    "> - Immutable"
   ]
  },
  {
   "cell_type": "code",
   "execution_count": 61,
   "id": "773dd94e",
   "metadata": {},
   "outputs": [],
   "source": [
    "name = \"Sam\""
   ]
  },
  {
   "cell_type": "code",
   "execution_count": 63,
   "id": "45c6b2e9",
   "metadata": {},
   "outputs": [],
   "source": [
    "# name[0] = \"P\"\n",
    "last_letters = name[1:]"
   ]
  },
  {
   "cell_type": "code",
   "execution_count": 64,
   "id": "105a1156",
   "metadata": {},
   "outputs": [
    {
     "data": {
      "text/plain": [
       "'am'"
      ]
     },
     "execution_count": 64,
     "metadata": {},
     "output_type": "execute_result"
    }
   ],
   "source": [
    "last_letters"
   ]
  },
  {
   "cell_type": "code",
   "execution_count": 66,
   "id": "69bed8c3",
   "metadata": {},
   "outputs": [
    {
     "data": {
      "text/plain": [
       "'Pam'"
      ]
     },
     "execution_count": 66,
     "metadata": {},
     "output_type": "execute_result"
    }
   ],
   "source": [
    "# String concactenation\n",
    "\"P\" + last_letters"
   ]
  },
  {
   "cell_type": "code",
   "execution_count": 67,
   "id": "78a531fb",
   "metadata": {},
   "outputs": [],
   "source": [
    "letter = \"z\""
   ]
  },
  {
   "cell_type": "code",
   "execution_count": 68,
   "id": "c299c317",
   "metadata": {},
   "outputs": [
    {
     "data": {
      "text/plain": [
       "'zzzzzzzzzz'"
      ]
     },
     "execution_count": 68,
     "metadata": {},
     "output_type": "execute_result"
    }
   ],
   "source": [
    "letter * 10"
   ]
  },
  {
   "cell_type": "code",
   "execution_count": 69,
   "id": "2057705f",
   "metadata": {},
   "outputs": [
    {
     "data": {
      "text/plain": [
       "5"
      ]
     },
     "execution_count": 69,
     "metadata": {},
     "output_type": "execute_result"
    }
   ],
   "source": [
    "2 + 3"
   ]
  },
  {
   "cell_type": "code",
   "execution_count": 71,
   "id": "c21fa5df",
   "metadata": {},
   "outputs": [
    {
     "data": {
      "text/plain": [
       "'23'"
      ]
     },
     "execution_count": 71,
     "metadata": {},
     "output_type": "execute_result"
    }
   ],
   "source": [
    "# Strings that are numbers won't add together.\n",
    "\"2\" + \"3\""
   ]
  },
  {
   "cell_type": "code",
   "execution_count": 72,
   "id": "94e5b56f",
   "metadata": {},
   "outputs": [],
   "source": [
    "x = \"Hello World\""
   ]
  },
  {
   "cell_type": "code",
   "execution_count": 76,
   "id": "90b6563c",
   "metadata": {},
   "outputs": [
    {
     "data": {
      "text/plain": [
       "<function str.upper()>"
      ]
     },
     "execution_count": 76,
     "metadata": {},
     "output_type": "execute_result"
    }
   ],
   "source": [
    "# Have to use the paranthesis\n",
    "x.upper"
   ]
  },
  {
   "cell_type": "code",
   "execution_count": 77,
   "id": "21cc5967",
   "metadata": {},
   "outputs": [
    {
     "data": {
      "text/plain": [
       "'HELLO WORLD'"
      ]
     },
     "execution_count": 77,
     "metadata": {},
     "output_type": "execute_result"
    }
   ],
   "source": [
    "# If you want to work with a variable press tab.\n",
    "x.upper()"
   ]
  },
  {
   "cell_type": "code",
   "execution_count": 78,
   "id": "a96e579d",
   "metadata": {},
   "outputs": [
    {
     "data": {
      "text/plain": [
       "'hello world'"
      ]
     },
     "execution_count": 78,
     "metadata": {},
     "output_type": "execute_result"
    }
   ],
   "source": [
    "x.lower()"
   ]
  },
  {
   "cell_type": "code",
   "execution_count": 79,
   "id": "0ea7b000",
   "metadata": {},
   "outputs": [
    {
     "data": {
      "text/plain": [
       "['Hello', 'World']"
      ]
     },
     "execution_count": 79,
     "metadata": {},
     "output_type": "execute_result"
    }
   ],
   "source": [
    "# Brings up a list of strings.\n",
    "x.split()"
   ]
  },
  {
   "cell_type": "code",
   "execution_count": 80,
   "id": "20e30a50",
   "metadata": {},
   "outputs": [],
   "source": [
    "q = \"My name is Patrick!\""
   ]
  },
  {
   "cell_type": "code",
   "execution_count": 81,
   "id": "684cdb22",
   "metadata": {},
   "outputs": [
    {
     "data": {
      "text/plain": [
       "['My', 'name', 'is', 'Patrick!']"
      ]
     },
     "execution_count": 81,
     "metadata": {},
     "output_type": "execute_result"
    }
   ],
   "source": [
    "q.split()"
   ]
  },
  {
   "cell_type": "code",
   "execution_count": 82,
   "id": "e27f64a0",
   "metadata": {},
   "outputs": [
    {
     "data": {
      "text/plain": [
       "['My n', 'me is P', 'trick!']"
      ]
     },
     "execution_count": 82,
     "metadata": {},
     "output_type": "execute_result"
    }
   ],
   "source": [
    "q.split(\"a\")"
   ]
  },
  {
   "cell_type": "code",
   "execution_count": 83,
   "id": "ca5cd8d6",
   "metadata": {},
   "outputs": [
    {
     "name": "stdout",
     "output_type": "stream",
     "text": [
      "hello\n"
     ]
    }
   ],
   "source": [
    "print(\"hello\")"
   ]
  },
  {
   "cell_type": "markdown",
   "id": "bdc903c2",
   "metadata": {},
   "source": [
    "#### Print formatting with Strings\n",
    "> - .format()\n",
    "> - f-strings (formatted string literals)"
   ]
  },
  {
   "cell_type": "code",
   "execution_count": 84,
   "id": "9ccfeeba",
   "metadata": {},
   "outputs": [],
   "source": [
    "f = \"Patrick\""
   ]
  },
  {
   "cell_type": "code",
   "execution_count": 85,
   "id": "22c2c3af",
   "metadata": {},
   "outputs": [],
   "source": [
    "t = \"Ryan\""
   ]
  },
  {
   "cell_type": "code",
   "execution_count": 87,
   "id": "913fc12e",
   "metadata": {},
   "outputs": [
    {
     "data": {
      "text/plain": [
       "'My first name is Patrick and my last name is Ryan.'"
      ]
     },
     "execution_count": 87,
     "metadata": {},
     "output_type": "execute_result"
    }
   ],
   "source": [
    "'My first name is {} and my last name is {}.'.format(f,t)"
   ]
  },
  {
   "cell_type": "code",
   "execution_count": 88,
   "id": "4b465bfc",
   "metadata": {},
   "outputs": [
    {
     "data": {
      "text/plain": [
       "'My first name is Patrick and my last name is Ryan.'"
      ]
     },
     "execution_count": 88,
     "metadata": {},
     "output_type": "execute_result"
    }
   ],
   "source": [
    "f\"My first name is {f} and my last name is {t}.\""
   ]
  },
  {
   "cell_type": "code",
   "execution_count": 89,
   "id": "3fe53d64",
   "metadata": {},
   "outputs": [
    {
     "data": {
      "text/plain": [
       "'Hello are you how'"
      ]
     },
     "execution_count": 89,
     "metadata": {},
     "output_type": "execute_result"
    }
   ],
   "source": [
    "\"Hello {} {} {}\".format(\"are\", \"you\", \"how\")"
   ]
  },
  {
   "cell_type": "code",
   "execution_count": 92,
   "id": "c24472bd",
   "metadata": {},
   "outputs": [
    {
     "data": {
      "text/plain": [
       "'Hello how you are?'"
      ]
     },
     "execution_count": 92,
     "metadata": {},
     "output_type": "execute_result"
    }
   ],
   "source": [
    "\"Hello {2} {1} {0}?\".format(\"are\", \"you\", \"how\")"
   ]
  },
  {
   "cell_type": "code",
   "execution_count": 93,
   "id": "e8585619",
   "metadata": {},
   "outputs": [],
   "source": [
    "result = 100/777"
   ]
  },
  {
   "cell_type": "code",
   "execution_count": 94,
   "id": "14ade650",
   "metadata": {},
   "outputs": [
    {
     "data": {
      "text/plain": [
       "0.1287001287001287"
      ]
     },
     "execution_count": 94,
     "metadata": {},
     "output_type": "execute_result"
    }
   ],
   "source": [
    "result"
   ]
  },
  {
   "cell_type": "markdown",
   "id": "4461194e",
   "metadata": {},
   "source": [
    "#### Float formatting {value:width(white space).precision\"f\"}"
   ]
  },
  {
   "cell_type": "code",
   "execution_count": 99,
   "id": "9a60dce0",
   "metadata": {},
   "outputs": [
    {
     "name": "stdout",
     "output_type": "stream",
     "text": [
      "The result was 0.129\n"
     ]
    }
   ],
   "source": [
    "print(\"The result was {r:1.3f}\".format(r=result))"
   ]
  },
  {
   "cell_type": "code",
   "execution_count": 105,
   "id": "170cc66b",
   "metadata": {},
   "outputs": [
    {
     "name": "stdout",
     "output_type": "stream",
     "text": [
      "The result was   0.128700\n"
     ]
    }
   ],
   "source": [
    "print(\"The result was {r:10.6f}\".format(r=result))"
   ]
  },
  {
   "cell_type": "code",
   "execution_count": 106,
   "id": "179540e9",
   "metadata": {},
   "outputs": [
    {
     "name": "stdout",
     "output_type": "stream",
     "text": [
      "The result was 0.12870\n"
     ]
    }
   ],
   "source": [
    "print(f\"The result was {result:1.5f}\")"
   ]
  },
  {
   "cell_type": "code",
   "execution_count": 107,
   "id": "846a4d9c",
   "metadata": {},
   "outputs": [
    {
     "data": {
      "text/plain": [
       "'I like apples'"
      ]
     },
     "execution_count": 107,
     "metadata": {},
     "output_type": "execute_result"
    }
   ],
   "source": [
    "\"I like %s\" %\"apples\""
   ]
  },
  {
   "cell_type": "markdown",
   "id": "85542421",
   "metadata": {},
   "source": [
    "### Lists \n",
    "- Lists are ordered sequences that can hold a variety of object types.\n",
    "- They use brackets and commas to seperate objects in the list.\n",
    "- Support slicing and nesting.\n",
    "> This info can be found here: [Udemy](https://www.udemy.com/course/complete-python-bootcamp/learn/lecture/9388534?start=135#overview)"
   ]
  },
  {
   "cell_type": "code",
   "execution_count": 108,
   "id": "ef9a39ef",
   "metadata": {},
   "outputs": [],
   "source": [
    "lst = [0, 1, 2]"
   ]
  },
  {
   "cell_type": "code",
   "execution_count": 109,
   "id": "571100e5",
   "metadata": {},
   "outputs": [
    {
     "data": {
      "text/plain": [
       "2"
      ]
     },
     "execution_count": 109,
     "metadata": {},
     "output_type": "execute_result"
    }
   ],
   "source": [
    "lst.pop()"
   ]
  },
  {
   "cell_type": "code",
   "execution_count": 110,
   "id": "73dc73fc",
   "metadata": {},
   "outputs": [
    {
     "data": {
      "text/plain": [
       "[0, 1]"
      ]
     },
     "execution_count": 110,
     "metadata": {},
     "output_type": "execute_result"
    }
   ],
   "source": [
    "lst"
   ]
  },
  {
   "cell_type": "code",
   "execution_count": 113,
   "id": "7faced51",
   "metadata": {},
   "outputs": [],
   "source": [
    "first_list = [\"P\", \"a\", \"t\", \"r\", \"i\", \"c\", \"k\"]"
   ]
  },
  {
   "cell_type": "code",
   "execution_count": 114,
   "id": "18a316d0",
   "metadata": {},
   "outputs": [
    {
     "data": {
      "text/plain": [
       "['P', 'a', 't', 'r', 'i', 'c', 'k']"
      ]
     },
     "execution_count": 114,
     "metadata": {},
     "output_type": "execute_result"
    }
   ],
   "source": [
    "first_list"
   ]
  },
  {
   "cell_type": "markdown",
   "id": "5da616ad",
   "metadata": {},
   "source": [
    "#### Slicing a list"
   ]
  },
  {
   "cell_type": "code",
   "execution_count": 116,
   "id": "8b517f45",
   "metadata": {},
   "outputs": [
    {
     "data": {
      "text/plain": [
       "['P', 'a', 't']"
      ]
     },
     "execution_count": 116,
     "metadata": {},
     "output_type": "execute_result"
    }
   ],
   "source": [
    "first_list[0:3]"
   ]
  },
  {
   "cell_type": "markdown",
   "id": "cc4b626a",
   "metadata": {},
   "source": [
    "#### Nested list sliced"
   ]
  },
  {
   "cell_type": "code",
   "execution_count": 117,
   "id": "2bbd526a",
   "metadata": {},
   "outputs": [],
   "source": [
    "second_list = [\"P\", \"a\", \"t\", [\"r\", \"i\", \"c\", \"k\"]]"
   ]
  },
  {
   "cell_type": "code",
   "execution_count": 120,
   "id": "0d59caaa",
   "metadata": {},
   "outputs": [
    {
     "data": {
      "text/plain": [
       "['r', 'i']"
      ]
     },
     "execution_count": 120,
     "metadata": {},
     "output_type": "execute_result"
    }
   ],
   "source": [
    "second_list[3][0:2]"
   ]
  },
  {
   "cell_type": "code",
   "execution_count": 121,
   "id": "93018fe5",
   "metadata": {},
   "outputs": [],
   "source": [
    "final_list = [\"P\", \"a\", \"t\", [\"r\", \"i\", \"c\", \"k\", [\"R\", \"y\", \"a\", \"n\"]]]"
   ]
  },
  {
   "cell_type": "code",
   "execution_count": 127,
   "id": "526e90f6",
   "metadata": {},
   "outputs": [
    {
     "data": {
      "text/plain": [
       "['R', 'y']"
      ]
     },
     "execution_count": 127,
     "metadata": {},
     "output_type": "execute_result"
    }
   ],
   "source": [
    "# Crazy!\n",
    "final_list[3][4][0:2]"
   ]
  },
  {
   "cell_type": "code",
   "execution_count": null,
   "id": "e0d289f0",
   "metadata": {},
   "outputs": [],
   "source": []
  }
 ],
 "metadata": {
  "kernelspec": {
   "display_name": "Python 3 (ipykernel)",
   "language": "python",
   "name": "python3"
  },
  "language_info": {
   "codemirror_mode": {
    "name": "ipython",
    "version": 3
   },
   "file_extension": ".py",
   "mimetype": "text/x-python",
   "name": "python",
   "nbconvert_exporter": "python",
   "pygments_lexer": "ipython3",
   "version": "3.9.12"
  }
 },
 "nbformat": 4,
 "nbformat_minor": 5
}
